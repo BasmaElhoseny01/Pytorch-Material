{
 "cells": [
  {
   "cell_type": "markdown",
   "metadata": {},
   "source": [
    "## Tensor Board"
   ]
  },
  {
   "cell_type": "markdown",
   "metadata": {},
   "source": [
    "Run Server for tensor board\n",
    "\n",
    "``PS D:\\PyTorch> tensorboard --logdir=runs``\n",
    "\n",
    "\n",
    "we will get :TensorBoard 2.11.2 at http://localhost:6006/ (Press CTRL+C to quit)"
   ]
  },
  {
   "cell_type": "code",
   "execution_count": 1,
   "metadata": {},
   "outputs": [
    {
     "name": "stderr",
     "output_type": "stream",
     "text": [
      "/home/basma/.local/lib/python3.10/site-packages/tqdm/auto.py:21: TqdmWarning: IProgress not found. Please update jupyter and ipywidgets. See https://ipywidgets.readthedocs.io/en/stable/user_install.html\n",
      "  from .autonotebook import tqdm as notebook_tqdm\n"
     ]
    }
   ],
   "source": [
    "import torch\n",
    "import torch.nn as nn\n",
    "import torchvision\n",
    "import torchvision.transforms as transforms\n",
    "import matplotlib.pyplot as plt\n",
    "import sys \n",
    "\n",
    "\n",
    "# TensorBoard(1)\n",
    "from torch.utils.tensorboard import SummaryWriter\n",
    "# writer=SummaryWriter('runs/mnist')\n",
    "writer=SummaryWriter('runs/test')"
   ]
  },
  {
   "cell_type": "code",
   "execution_count": 2,
   "metadata": {},
   "outputs": [],
   "source": [
    "device=torch.device('cuda' if torch.cuda.is_available() else 'cpu')\n",
    "\n",
    "# hyper parameters\n",
    "input_size=784 #28*28\n",
    "hidden_size=100\n",
    "num_classes=10\n",
    "num_epochs=2\n",
    "batch_size=100\n",
    "learning_rate=0.0001\n"
   ]
  },
  {
   "cell_type": "code",
   "execution_count": 3,
   "metadata": {},
   "outputs": [],
   "source": [
    "# MINST\n",
    "# root is where the data will be stored\n",
    "# transform is how the data will be transformed --> that converts a PIL Image or numpy array into a PyTorch tensor.\n",
    "# download=True will download the data if you don't have it\n",
    "train_dataset=torchvision.datasets.MNIST(root='./data',train=True,transform=transforms.ToTensor(),download=True)\n",
    "test_dataset=torchvision.datasets.MNIST(root='./data',train=False,transform=transforms.ToTensor())\n",
    "\n",
    "\n",
    "train_loader = torch.utils.data.DataLoader(dataset=train_dataset,batch_size=batch_size,shuffle=True)\n",
    "test_loader = torch.utils.data.DataLoader(dataset=test_dataset,batch_size=batch_size,shuffle=False)"
   ]
  },
  {
   "cell_type": "code",
   "execution_count": 9,
   "metadata": {},
   "outputs": [
    {
     "name": "stdout",
     "output_type": "stream",
     "text": [
      "torch.Size([100, 1, 28, 28]) torch.Size([100])\n"
     ]
    }
   ],
   "source": [
    "examples=iter(train_loader)\n",
    "# Accessing 1 batch\n",
    "samples,labels=examples.__next__()\n",
    "print(samples.shape,labels.shape)\n",
    "\n",
    "# TensorBoard(2) Plot images\n",
    "# Old:\n",
    "# Show Sample (1st batch)\n",
    "# for i in range(6):\n",
    "#     plt.subplot(2,3,i+1)\n",
    "#     plt.imshow(samples[i][0],cmap='gray')\n",
    "# plt.show()\n",
    "# New:\n",
    "img_grid=torchvision.utils.make_grid(samples)\n",
    "writer.add_image('mnist_images',img_grid)\n"
   ]
  },
  {
   "cell_type": "code",
   "execution_count": 11,
   "metadata": {},
   "outputs": [],
   "source": [
    "\n",
    "samples,labels=examples.__next__()\n",
    "img_grid=torchvision.utils.make_grid(samples)\n",
    "writer.add_image('mnist_images1',img_grid)\n",
    "writer.close() #to flush"
   ]
  },
  {
   "cell_type": "code",
   "execution_count": 19,
   "metadata": {},
   "outputs": [
    {
     "name": "stdout",
     "output_type": "stream",
     "text": [
      "epoch 1/2, step 100/600 , loss = 1.8197262287139893 \n",
      "epoch 1/2, step 200/600 , loss = 1.2843384742736816 \n",
      "epoch 1/2, step 300/600 , loss = 0.9366411566734314 \n",
      "epoch 1/2, step 400/600 , loss = 0.7127205729484558 \n",
      "epoch 1/2, step 500/600 , loss = 0.6208563446998596 \n",
      "epoch 1/2, step 600/600 , loss = 0.6254121661186218 \n",
      "epoch 2/2, step 100/600 , loss = 0.525275468826294 \n",
      "epoch 2/2, step 200/600 , loss = 0.4228530824184418 \n",
      "epoch 2/2, step 300/600 , loss = 0.4626455307006836 \n",
      "epoch 2/2, step 400/600 , loss = 0.4188263714313507 \n",
      "epoch 2/2, step 500/600 , loss = 0.4544052481651306 \n",
      "epoch 2/2, step 600/600 , loss = 0.4532298147678375 \n"
     ]
    }
   ],
   "source": [
    "class NeuralNet(nn.Module):\n",
    "    def __init__(self,input_size,hidden_size,num_classes):\n",
    "        super(NeuralNet,self).__init__()\n",
    "\n",
    "        # output=x*wT+bias [Linear function]\n",
    "        self.l1=nn.Linear(input_size,hidden_size)\n",
    "\n",
    "        # Activation Function\n",
    "        self.relu=nn.ReLU()\n",
    "\n",
    "        self.l2 = nn.Linear(hidden_size,num_classes)\n",
    "\n",
    "        # Activation Function (Sigmoid) bec classification Problem but we will use cross entropy \n",
    "        # that apply that function inside it so we won't define that layer\n",
    "    \n",
    "    def forward(self,x):\n",
    "        out=self.l1(x)\n",
    "        out=self.relu(out)\n",
    "        out=self.l2(out)\n",
    "        return out\n",
    "    \n",
    "model= NeuralNet(input_size,hidden_size,num_classes).to(device)\n",
    "\n",
    "# loss and optimizer\n",
    "criterion = nn.CrossEntropyLoss() # Apply Sigmoid inside it :D\n",
    "optimizer = torch.optim.Adam(model.parameters(),lr=learning_rate)\n",
    "\n",
    "\n",
    "# TensorBoard(3) Model Graph (Network)\n",
    "writer.add_graph(model,samples.reshape(-1,28*28).to(device))\n",
    "writer.close() #to flush\n",
    "\n",
    "\n",
    "# Training\n",
    "running_loss=0.0 #  To draw in tensor Board\n",
    "running_correct=0 # To draw in tensor Board\n",
    "\n",
    "n_total_steps=len(train_loader)\n",
    "for epoch in range(num_epochs):\n",
    "    for i , (images,labels) in enumerate(train_loader):\n",
    "        # Images are 100*1*28*28\n",
    "        # Reshape to 100*784\n",
    "        images=images.reshape(-1,28*28).to(device) # [100,784]\n",
    "        labels=labels.to(device) # [100]\n",
    "  \n",
    "        # Forward\n",
    "        outputs=model(images)\n",
    "        loss=criterion(outputs,labels)\n",
    "\n",
    "        # Backwards\n",
    "        optimizer.zero_grad()\n",
    "        loss.backward()\n",
    "        optimizer.step()\n",
    "\n",
    "        # For Tensor Board\n",
    "        running_loss+=loss.item()\n",
    "        _,predicted=torch.max(outputs.data,1)\n",
    "        running_correct += (predicted == labels).sum().item()\n",
    "\n",
    "        if (i+1) % 100 == 0:\n",
    "            print(f'epoch {epoch+1}/{num_epochs}, step {i+1}/{n_total_steps} , loss = {loss.item()} ')\n",
    "            \n",
    "            # TensorBoard(4) To add Scalar for the loss to draw training Graph\n",
    "            writer.add_scalar('training loss',running_loss/100,epoch*n_total_steps + i) #/100 bec we are running every 100 step\n",
    "            writer.add_scalar('accuracy',running_correct/100,epoch*n_total_steps + i) #/100 bec we are running every 100 step\n",
    "            running_loss=0.0\n",
    "            running_correct=0\n"
   ]
  },
  {
   "cell_type": "code",
   "execution_count": null,
   "metadata": {},
   "outputs": [
    {
     "name": "stdout",
     "output_type": "stream",
     "text": [
      "epoch 1/2, step 100/600 , loss = 0.48600172996520996 \n",
      "epoch 1/2, step 200/600 , loss = 0.3482045829296112 \n",
      "epoch 1/2, step 300/600 , loss = 0.3221309185028076 \n",
      "epoch 1/2, step 400/600 , loss = 0.24100519716739655 \n",
      "epoch 1/2, step 500/600 , loss = 0.18110185861587524 \n",
      "epoch 1/2, step 600/600 , loss = 0.24509309232234955 \n",
      "epoch 2/2, step 100/600 , loss = 0.22404764592647552 \n",
      "epoch 2/2, step 200/600 , loss = 0.22133058309555054 \n",
      "epoch 2/2, step 300/600 , loss = 0.27536407113075256 \n",
      "epoch 2/2, step 400/600 , loss = 0.3860691487789154 \n",
      "epoch 2/2, step 500/600 , loss = 0.09852485358715057 \n",
      "epoch 2/2, step 600/600 , loss = 0.11960834264755249 \n"
     ]
    }
   ],
   "source": [
    "class NeuralNet(nn.Module):\n",
    "    def __init__(self,input_size,hidden_size,num_classes):\n",
    "        super(NeuralNet,self).__init__()\n",
    "\n",
    "        # output=x*wT+bias [Linear function]\n",
    "        self.l1=nn.Linear(input_size,hidden_size)\n",
    "\n",
    "        # Activation Function\n",
    "        self.relu=nn.ReLU()\n",
    "\n",
    "        self.l2 = nn.Linear(hidden_size,num_classes)\n",
    "\n",
    "        # Activation Function (Sigmoid) bec classification Problem but we will use cross entropy \n",
    "        # that apply that function inside it so we won't define that layer\n",
    "    \n",
    "    def forward(self,x):\n",
    "        out=self.l1(x)\n",
    "        out=self.relu(out)\n",
    "        out=self.l2(out)\n",
    "        return out\n",
    "    \n",
    "model= NeuralNet(input_size,hidden_size,num_classes).to(device)\n",
    "\n",
    "# loss and optimizer\n",
    "criterion = nn.CrossEntropyLoss() # Apply Sigmoid inside it :D\n",
    "optimizer = torch.optim.Adam(model.parameters(),lr=learning_rate)\n",
    "\n",
    "\n",
    "# Training\n",
    "n_total_steps=len(train_loader)\n",
    "for epoch in range(num_epochs):\n",
    "    for i , (images,labels) in enumerate(train_loader):\n",
    "        # Images are 100*1*28*28\n",
    "        # Reshape to 100*784\n",
    "        images=images.reshape(-1,28*28).to(device) # [100,784]\n",
    "        labels=labels.to(device) # [100]\n",
    "  \n",
    "        # Forward\n",
    "        outputs=model(images)\n",
    "        loss=criterion(outputs,labels)\n",
    "\n",
    "        # Backwards\n",
    "        optimizer.zero_grad()\n",
    "        loss.backward()\n",
    "        optimizer.step()\n",
    "\n",
    "        if (i+1) % 100 == 0:\n",
    "            print(f'epoch {epoch+1}/{num_epochs}, step {i+1}/{n_total_steps} , loss = {loss.item()} ')\n"
   ]
  },
  {
   "cell_type": "code",
   "execution_count": 45,
   "metadata": {},
   "outputs": [
    {
     "name": "stdout",
     "output_type": "stream",
     "text": [
      "accuracy = 95.53\n"
     ]
    }
   ],
   "source": [
    "\n",
    "# Testing\n",
    "with torch.no_grad():\n",
    "    n_correct=0\n",
    "    n_samples=0\n",
    "    for images,labels in test_loader:\n",
    "        images=images.reshape(-1,28*28).to(device)\n",
    "        labels=labels.to(device)\n",
    "\n",
    "        outputs=model(images)\n",
    "\n",
    "        # print(outputs.shape) #torch.Size([100, 10])\n",
    "        # value,prediction\n",
    "        _,predictions=torch.max(outputs,1) #on dim 1 which is the 10 classes\n",
    "        \n",
    "        n_samples+=labels.shape[0]\n",
    "        n_correct+=(predictions==labels).sum().item() #.item() bec it is tensor he want value\n",
    "    acc =100.0* n_correct/n_samples\n",
    "    print(f'accuracy = {acc}')"
   ]
  }
 ],
 "metadata": {
  "kernelspec": {
   "display_name": "Python 3",
   "language": "python",
   "name": "python3"
  },
  "language_info": {
   "codemirror_mode": {
    "name": "ipython",
    "version": 3
   },
   "file_extension": ".py",
   "mimetype": "text/x-python",
   "name": "python",
   "nbconvert_exporter": "python",
   "pygments_lexer": "ipython3",
   "version": "3.10.12"
  }
 },
 "nbformat": 4,
 "nbformat_minor": 2
}
