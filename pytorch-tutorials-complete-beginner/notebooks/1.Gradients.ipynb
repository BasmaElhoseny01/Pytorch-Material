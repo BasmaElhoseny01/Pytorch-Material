{
 "cells": [
  {
   "cell_type": "markdown",
   "metadata": {},
   "source": [
    "## Gradients"
   ]
  },
  {
   "cell_type": "code",
   "execution_count": null,
   "metadata": {},
   "outputs": [],
   "source": [
    "import torch"
   ]
  },
  {
   "cell_type": "markdown",
   "metadata": {},
   "source": [
    "#### Calculate Gradients"
   ]
  },
  {
   "cell_type": "code",
   "execution_count": 11,
   "metadata": {},
   "outputs": [
    {
     "name": "stdout",
     "output_type": "stream",
     "text": [
      "tensor([1., 1., 1.], requires_grad=True)\n",
      "tensor([2., 2., 2.], grad_fn=<MulBackward0>)\n",
      "tensor(2., grad_fn=<MeanBackward0>)\n",
      "tensor([0.6667, 0.6667, 0.6667])\n"
     ]
    }
   ],
   "source": [
    "# Tensor with requires_grad to keep track of gradient [X will we optimized]--> later you will need to compute d.../dx\n",
    "x=torch.ones(3,requires_grad=True)\n",
    "print(x)\n",
    "\n",
    "y=2*x\n",
    "print(y)\n",
    "\n",
    "mean=y.mean() #Scalar to compute derivative on --> like the error or loss :D \n",
    "# Else we will need to use Jacobian Matrix\n",
    "print(mean)\n",
    "\n",
    "\n",
    "# Cal Gradient\n",
    "mean.backward()#dmean/dx\n",
    "# mean=1/3*(2x1+2x2+2x3)\n",
    "# dmean/dx=[dmean/dx1,dmean/dx2,dmean/dx3]\n",
    "# dmean/dx=[2/3,2/3,2/3] = [0.667,0.667,0.667]\n",
    "print(x.grad)\n"
   ]
  },
  {
   "attachments": {
    "image.png": {
     "image/png": "[encoded data removed]"
    }
   },
   "cell_type": "markdown",
   "metadata": {},
   "source": [
    "##### Fn: y=2+x\n",
    "![image.png](attachment:image.png)\n",
    "##### 📝📝  The absence of requires_grad=True indicates to PyTorch that you don't intend to compute gradients for this tensor, and as a result, PyTorch does not build the computation graph for it.\n"
   ]
  },
  {
   "cell_type": "code",
   "execution_count": 14,
   "metadata": {},
   "outputs": [
    {
     "name": "stdout",
     "output_type": "stream",
     "text": [
      "tensor([1., 2., 3.], requires_grad=True)\n",
      "tensor([1., 4., 9.], grad_fn=<PowBackward0>)\n",
      "tensor(4.6667, grad_fn=<MeanBackward0>)\n",
      "tensor([0.6667, 1.3333, 2.0000])\n"
     ]
    }
   ],
   "source": [
    "# It creates computation Graph\n",
    "x=torch.tensor([1.0,2.0,3.0],requires_grad=True)\n",
    "print(x)\n",
    "\n",
    "y=x**2\n",
    "print(y)\n",
    "y=y.mean()\n",
    "print(y)\n",
    "\n",
    "# Cal Gradient\n",
    "y.backward()#dy/dx\n",
    "# dy/dx=[2/3*x1,2/3*x2,2/3*x3]= [2/3(1),2/3(2),2/3(3)]\n",
    "print(x.grad)"
   ]
  },
  {
   "cell_type": "markdown",
   "metadata": {},
   "source": [
    "#### Stop Tracking Gradients"
   ]
  },
  {
   "cell_type": "code",
   "execution_count": 33,
   "metadata": {},
   "outputs": [
    {
     "name": "stdout",
     "output_type": "stream",
     "text": [
      "tensor([0.6824, 0.0270, 0.2534], requires_grad=True)\n",
      "tensor([0.6824, 0.0270, 0.2534])\n",
      "tensor([-0.8244,  1.1201,  0.7721], requires_grad=True)\n",
      "tensor([-0.8244,  1.1201,  0.7721])\n",
      "tensor([ 0.2082, -1.2758, -1.5066], requires_grad=True)\n",
      "tensor([2.2082, 0.7242, 0.4934])\n",
      "tensor([2.2082, 0.7242, 0.4934], grad_fn=<AddBackward0>)\n"
     ]
    }
   ],
   "source": [
    "# Method(1) requires_grad_\n",
    "x=torch.rand(3,requires_grad=True)\n",
    "print(x)\n",
    "\n",
    "x.requires_grad_(False)\n",
    "print(x)\n",
    "\n",
    "# Method(2) detach()\n",
    "x=torch.randn(3,requires_grad=True)\n",
    "print(x)\n",
    "\n",
    "y=x.detach() #creates new copy of torch x \n",
    "print(y)\n",
    "\n",
    "\n",
    "\n",
    "# Method(3) detach()\n",
    "x=torch.randn(3,requires_grad=True)\n",
    "print(x)\n",
    "\n",
    "with torch.no_grad():\n",
    "    y=x+2  # y doesn't have the gradient function :D\n",
    "    print(y)\n",
    "# else\n",
    "z=x+2 # will have the gradient function\n",
    "print(z)\n",
    "\n"
   ]
  },
  {
   "cell_type": "markdown",
   "metadata": {},
   "source": [
    "#### Accumlated Gradients"
   ]
  },
  {
   "cell_type": "code",
   "execution_count": 18,
   "metadata": {},
   "outputs": [
    {
     "name": "stdout",
     "output_type": "stream",
     "text": [
      "Wrong:\n",
      "tensor([3., 3., 3., 3.])\n",
      "tensor([6., 6., 6., 6.])\n",
      "tensor([9., 9., 9., 9.])\n",
      "Correct:\n",
      "tensor([3., 3., 3., 3.])\n",
      "tensor([3., 3., 3., 3.])\n",
      "tensor([3., 3., 3., 3.])\n"
     ]
    }
   ],
   "source": [
    "print(\"Wrong:\")\n",
    "# Gradients are accumlated when calling the backward function\n",
    "weights=torch.ones(4,requires_grad=True)\n",
    "\n",
    "for epoch in range(3):\n",
    "    model_output=(weights*3).sum()\n",
    "\n",
    "    model_output.backward() # Add new gradients to the previous ones [accumlate]\n",
    "\n",
    "    print(weights.grad)\n",
    "\n",
    "print(\"Correct:\")\n",
    "# SOL: zero the grads after each epoch\n",
    "weights=torch.ones(4,requires_grad=True)\n",
    "\n",
    "for epoch in range(3):\n",
    "    model_output=(weights*3).sum()\n",
    "\n",
    "    model_output.backward() # Add new gradients to the previous ones [accumlate]\n",
    "\n",
    "    print(weights.grad)\n",
    "\n",
    "    weights.grad.zero_()"
   ]
  }
 ],
 "metadata": {
  "kernelspec": {
   "display_name": "Python 3",
   "language": "python",
   "name": "python3"
  },
  "language_info": {
   "codemirror_mode": {
    "name": "ipython",
    "version": 3
   },
   "file_extension": ".py",
   "mimetype": "text/x-python",
   "name": "python",
   "nbconvert_exporter": "python",
   "pygments_lexer": "ipython3",
   "version": "3.10.9"
  }
 },
 "nbformat": 4,
 "nbformat_minor": 2
}
