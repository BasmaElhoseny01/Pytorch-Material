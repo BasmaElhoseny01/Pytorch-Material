{
 "cells": [
  {
   "cell_type": "markdown",
   "metadata": {},
   "source": [
    "### Logistic Regression"
   ]
  },
  {
   "cell_type": "code",
   "execution_count": 2,
   "metadata": {},
   "outputs": [
    {
     "name": "stdout",
     "output_type": "stream",
     "text": [
      "epoch: 10, loss = 0.5156\n",
      "epoch: 20, loss = 0.4350\n",
      "epoch: 30, loss = 0.3819\n",
      "epoch: 40, loss = 0.3441\n",
      "epoch: 50, loss = 0.3156\n",
      "epoch: 60, loss = 0.2933\n",
      "epoch: 70, loss = 0.2752\n",
      "epoch: 80, loss = 0.2601\n",
      "epoch: 90, loss = 0.2474\n",
      "epoch: 100, loss = 0.2365\n",
      "accuracy = 0.9474\n"
     ]
    }
   ],
   "source": [
    "import torch\n",
    "import torch.nn as nn\n",
    "import numpy as np\n",
    "from sklearn import datasets\n",
    "from sklearn.preprocessing import StandardScaler\n",
    "from sklearn.model_selection import train_test_split\n",
    "\n",
    "# 0)Prepare Data\n",
    "bc=datasets.load_breast_cancer()\n",
    "X,y = bc.data , bc.target\n",
    "\n",
    "n_samples,n_features=X.shape\n",
    "\n",
    "X_train,X_test,y_train,y_test=train_test_split(X,y,test_size=0.2,random_state=12345)\n",
    "\n",
    "\n",
    "# Scale --> Convert Data to Zero Mean Variance 1\n",
    "sc = StandardScaler()\n",
    "X_train=sc.fit_transform(X_train) # Fit the scaler to the data and transform the data\n",
    "X_test=sc.transform(X_test)\n",
    "\n",
    "X_train=torch.from_numpy(X_train.astype(np.float32))\n",
    "X_test=torch.from_numpy(X_test.astype(np.float32))\n",
    "y_train=torch.from_numpy(y_train.astype(np.float32))\n",
    "y_test=torch.from_numpy(y_test.astype(np.float32))\n",
    "\n",
    "y_train=y_train.view(y_train.shape[0],1)\n",
    "y_test=y_test.view(y_test.shape[0],1)\n",
    "\n",
    "\n",
    "\n",
    "# 1)Model\n",
    "# f = wx + b , sigmoid \n",
    "class LogisticRegression(nn.Module):\n",
    "    def __init__(self,n_input_features):\n",
    "        super(LogisticRegression,self).__init__()\n",
    "        self.Linear=nn.Linear(n_input_features,1)\n",
    "\n",
    "    def forward(self,x):\n",
    "        y_predicted=torch.sigmoid(self.Linear(x))\n",
    "        return y_predicted\n",
    "    \n",
    "model=LogisticRegression(n_features)\n",
    "\n",
    "# 2)Loss and optimizer\n",
    "learning_rate=0.01\n",
    "criterion = nn.BCELoss() #Binary Cross Entropy Loss\n",
    "optimizer = torch.optim.SGD(model.parameters(),lr=learning_rate)\n",
    "\n",
    "# 3)Training Loop\n",
    "num_epochs = 100\n",
    "for epoch in range(num_epochs):\n",
    "    # Forward Pass and loss\n",
    "    y_predicted=model(X_train)\n",
    "    loss=criterion(y_predicted,y_train)\n",
    "\n",
    "    # Backward pass\n",
    "    loss.backward()\n",
    "\n",
    "    # Update\n",
    "    optimizer.step()\n",
    "\n",
    "    # Zero Gradient\n",
    "    optimizer.zero_grad()\n",
    "    \n",
    "    if (epoch+1)%10==0:\n",
    "        print(f'epoch: {epoch+1}, loss = {loss.item():.4f}')\n",
    "\n",
    "# Testing Model\n",
    "with torch.no_grad():\n",
    "    y_predicted=model(X_test)\n",
    "    y_predicted_cls=y_predicted.round()\n",
    "    acc=y_predicted_cls.eq(y_test).sum()/float(y_test.shape[0])\n",
    "    print(f'accuracy = {acc:.4f}')\n",
    "\n",
    " \n"
   ]
  }
 ],
 "metadata": {
  "kernelspec": {
   "display_name": "Python 3",
   "language": "python",
   "name": "python3"
  },
  "language_info": {
   "codemirror_mode": {
    "name": "ipython",
    "version": 3
   },
   "file_extension": ".py",
   "mimetype": "text/x-python",
   "name": "python",
   "nbconvert_exporter": "python",
   "pygments_lexer": "ipython3",
   "version": "3.10.9"
  }
 },
 "nbformat": 4,
 "nbformat_minor": 2
}
