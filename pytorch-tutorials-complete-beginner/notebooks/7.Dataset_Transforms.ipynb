{
 "cells": [
  {
   "cell_type": "markdown",
   "metadata": {},
   "source": [
    "## DataSet Transforms\n",
    "Here we will use a transform to convert x and y from numpy to tensor "
   ]
  },
  {
   "cell_type": "markdown",
   "metadata": {},
   "source": [
    "complete list of built-in transforms: \n",
    "https://pytorch.org/docs/stable/torchvision/transforms.html\n",
    "\n",
    "##### On Images\n",
    "CenterCrop, Grayscale, Pad, RandomAffine\n",
    "RandomCrop, RandomHorizontalFlip, RandomRotation\n",
    "Resize, Scale\n",
    "\n",
    "##### On Tensors\n",
    "LinearTransformation, Normalize, RandomErasing\n"
   ]
  },
  {
   "cell_type": "code",
   "execution_count": 8,
   "metadata": {},
   "outputs": [
    {
     "name": "stdout",
     "output_type": "stream",
     "text": [
      "tensor([1.4230e+01, 1.7100e+00, 2.4300e+00, 1.5600e+01, 1.2700e+02, 2.8000e+00,\n",
      "        3.0600e+00, 2.8000e-01, 2.2900e+00, 5.6400e+00, 1.0400e+00, 3.9200e+00,\n",
      "        1.0650e+03]) tensor([1.])\n",
      "tensor([2.8460e+01, 3.4200e+00, 4.8600e+00, 3.1200e+01, 2.5400e+02, 5.6000e+00,\n",
      "        6.1200e+00, 5.6000e-01, 4.5800e+00, 1.1280e+01, 2.0800e+00, 7.8400e+00,\n",
      "        2.1300e+03]) tensor([1.])\n"
     ]
    }
   ],
   "source": [
    "import torch\n",
    "from torch.utils.data import Dataset,DataLoader\n",
    "import numpy as np\n",
    "import torchvision\n",
    "\n",
    "class WineDataset(Dataset):\n",
    "    def __init__(self,transform=None):\n",
    "        xy=np.loadtxt('./wine.csv',delimiter=',',dtype=np.float32, skiprows=1)\n",
    "        self.x=xy[:,1:]\n",
    "        self.y=xy[:,[0]] # he added [0] not 0 to convert to col vec n_samples,1\n",
    "        self.n_samples=xy.shape[0]\n",
    "\n",
    "        self.transform=transform\n",
    "\n",
    "    def __getitem__(self,index):\n",
    "        sample=self.x[index], self.y[index]\n",
    "\n",
    "        if self.transform:\n",
    "            sample = self.transform(sample)\n",
    "\n",
    "        return sample\n",
    "    \n",
    "    def __len__(self):\n",
    "        return self.n_samples\n",
    "    \n",
    "\n",
    "\n",
    "class ToTensor:\n",
    "    def __call__(self,sample):\n",
    "        inputs,targets = sample\n",
    "        return torch.from_numpy(inputs),torch.from_numpy(targets)\n",
    "    \n",
    "class MulTransform:\n",
    "    def __init__(self,factor):\n",
    "        self.factor=factor\n",
    "\n",
    "    def __call__(self,sample):\n",
    "        inputs,targets = sample\n",
    "        inputs*=self.factor\n",
    "        return inputs,targets\n",
    "\n",
    "dataset=WineDataset(transform=ToTensor())\n",
    "first_data=dataset[0]\n",
    "features,labels=first_data\n",
    "print(features,labels)\n",
    "\n",
    "composed = torchvision.transforms.Compose([ToTensor(),MulTransform(2)])\n",
    "dataset_new = WineDataset(transform=composed) \n",
    "first_data=dataset_new[0]\n",
    "features,labels=first_data\n",
    "print(features,labels)"
   ]
  },
  {
   "cell_type": "code",
   "execution_count": null,
   "metadata": {},
   "outputs": [],
   "source": []
  }
 ],
 "metadata": {
  "kernelspec": {
   "display_name": "Python 3",
   "language": "python",
   "name": "python3"
  },
  "language_info": {
   "codemirror_mode": {
    "name": "ipython",
    "version": 3
   },
   "file_extension": ".py",
   "mimetype": "text/x-python",
   "name": "python",
   "nbconvert_exporter": "python",
   "pygments_lexer": "ipython3",
   "version": "3.10.9"
  }
 },
 "nbformat": 4,
 "nbformat_minor": 2
}
