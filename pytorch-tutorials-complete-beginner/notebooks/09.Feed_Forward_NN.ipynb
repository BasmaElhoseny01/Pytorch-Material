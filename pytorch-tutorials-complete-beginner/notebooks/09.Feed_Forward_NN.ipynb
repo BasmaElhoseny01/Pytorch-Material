{
 "cells": [
  {
   "cell_type": "markdown",
   "metadata": {},
   "source": [
    "## Feed Forward"
   ]
  },
  {
   "cell_type": "code",
   "execution_count": 28,
   "metadata": {},
   "outputs": [],
   "source": [
    "import torch\n",
    "import torch.nn as nn\n",
    "import torchvision\n",
    "import torchvision.transforms as transforms\n",
    "import matplotlib.pyplot as plt\n",
    "import sys"
   ]
  },
  {
   "cell_type": "code",
   "execution_count": 4,
   "metadata": {},
   "outputs": [],
   "source": [
    "device=torch.device('cuda' if torch.cuda.is_available() else 'cpu')\n",
    "\n",
    "# hyper parameters\n",
    "input_size=784 #28*28\n",
    "hidden_size=100\n",
    "num_classes=10\n",
    "num_epochs=2\n",
    "batch_size=100\n",
    "learning_rate=0.001\n"
   ]
  },
  {
   "cell_type": "code",
   "execution_count": 13,
   "metadata": {},
   "outputs": [],
   "source": [
    "# MINST\n",
    "# root is where the data will be stored\n",
    "# transform is how the data will be transformed --> that converts a PIL Image or numpy array into a PyTorch tensor.\n",
    "# download=True will download the data if you don't have it\n",
    "train_dataset=torchvision.datasets.MNIST(root='./data',train=True,transform=transforms.ToTensor(),download=True)\n",
    "test_dataset=torchvision.datasets.MNIST(root='./data',train=False,transform=transforms.ToTensor())\n",
    "\n",
    "\n",
    "train_loader = torch.utils.data.DataLoader(dataset=train_dataset,batch_size=batch_size,shuffle=True)\n",
    "test_loader = torch.utils.data.DataLoader(dataset=test_dataset,batch_size=batch_size,shuffle=False)"
   ]
  },
  {
   "cell_type": "code",
   "execution_count": 25,
   "metadata": {},
   "outputs": [
    {
     "name": "stdout",
     "output_type": "stream",
     "text": [
      "torch.Size([100, 1, 28, 28]) torch.Size([100])\n"
     ]
    },
    {
     "data": {
      "image/png": "[encoded data removed]",
      "text/plain": [
       "<Figure size 640x480 with 6 Axes>"
      ]
     },
     "metadata": {},
     "output_type": "display_data"
    }
   ],
   "source": [
    "examples=iter(train_loader)\n",
    "# Accessing 1 batch\n",
    "samples,labels=examples.__next__()\n",
    "print(samples.shape,labels.shape)\n",
    "\n",
    "# Show Sample (1st batch)\n",
    "for i in range(6):\n",
    "    plt.subplot(2,3,i+1)\n",
    "    plt.imshow(samples[i][0],cmap='gray')\n",
    "plt.show()"
   ]
  },
  {
   "cell_type": "code",
   "execution_count": 39,
   "metadata": {},
   "outputs": [
    {
     "name": "stdout",
     "output_type": "stream",
     "text": [
      "epoch 1/2, step 100/600 , loss = 0.48600172996520996 \n",
      "epoch 1/2, step 200/600 , loss = 0.3482045829296112 \n",
      "epoch 1/2, step 300/600 , loss = 0.3221309185028076 \n",
      "epoch 1/2, step 400/600 , loss = 0.24100519716739655 \n",
      "epoch 1/2, step 500/600 , loss = 0.18110185861587524 \n",
      "epoch 1/2, step 600/600 , loss = 0.24509309232234955 \n",
      "epoch 2/2, step 100/600 , loss = 0.22404764592647552 \n",
      "epoch 2/2, step 200/600 , loss = 0.22133058309555054 \n",
      "epoch 2/2, step 300/600 , loss = 0.27536407113075256 \n",
      "epoch 2/2, step 400/600 , loss = 0.3860691487789154 \n",
      "epoch 2/2, step 500/600 , loss = 0.09852485358715057 \n",
      "epoch 2/2, step 600/600 , loss = 0.11960834264755249 \n"
     ]
    }
   ],
   "source": [
    "class NeuralNet(nn.Module):\n",
    "    def __init__(self,input_size,hidden_size,num_classes):\n",
    "        super(NeuralNet,self).__init__()\n",
    "\n",
    "        # output=x*wT+bias [Linear function]\n",
    "        self.l1=nn.Linear(input_size,hidden_size)\n",
    "\n",
    "        # Activation Function\n",
    "        self.relu=nn.ReLU()\n",
    "\n",
    "        self.l2 = nn.Linear(hidden_size,num_classes)\n",
    "\n",
    "        # Activation Function (Sigmoid) bec classification Problem but we will use cross entropy \n",
    "        # that apply that function inside it so we won't define that layer\n",
    "    \n",
    "    def forward(self,x):\n",
    "        out=self.l1(x)\n",
    "        out=self.relu(out)\n",
    "        out=self.l2(out)\n",
    "        return out\n",
    "    \n",
    "model= NeuralNet(input_size,hidden_size,num_classes).to(device)\n",
    "\n",
    "# loss and optimizer\n",
    "criterion = nn.CrossEntropyLoss() # Apply Sigmoid inside it :D\n",
    "optimizer = torch.optim.Adam(model.parameters(),lr=learning_rate)\n",
    "\n",
    "\n",
    "# Training\n",
    "n_total_steps=len(train_loader)\n",
    "for epoch in range(num_epochs):\n",
    "    for i , (images,labels) in enumerate(train_loader):\n",
    "        # Images are 100*1*28*28\n",
    "        # Reshape to 100*784\n",
    "        images=images.reshape(-1,28*28).to(device) # [100,784]\n",
    "        labels=labels.to(device) # [100]\n",
    "  \n",
    "        # Forward\n",
    "        outputs=model(images)\n",
    "        loss=criterion(outputs,labels)\n",
    "\n",
    "        # Backwards\n",
    "        optimizer.zero_grad()\n",
    "        loss.backward()\n",
    "        optimizer.step()\n",
    "\n",
    "        if (i+1) % 100 == 0:\n",
    "            print(f'epoch {epoch+1}/{num_epochs}, step {i+1}/{n_total_steps} , loss = {loss.item()} ')\n"
   ]
  },
  {
   "cell_type": "code",
   "execution_count": null,
   "metadata": {},
   "outputs": [
    {
     "name": "stdout",
     "output_type": "stream",
     "text": [
      "epoch 1/2, step 100/600 , loss = 0.48600172996520996 \n",
      "epoch 1/2, step 200/600 , loss = 0.3482045829296112 \n",
      "epoch 1/2, step 300/600 , loss = 0.3221309185028076 \n",
      "epoch 1/2, step 400/600 , loss = 0.24100519716739655 \n",
      "epoch 1/2, step 500/600 , loss = 0.18110185861587524 \n",
      "epoch 1/2, step 600/600 , loss = 0.24509309232234955 \n",
      "epoch 2/2, step 100/600 , loss = 0.22404764592647552 \n",
      "epoch 2/2, step 200/600 , loss = 0.22133058309555054 \n",
      "epoch 2/2, step 300/600 , loss = 0.27536407113075256 \n",
      "epoch 2/2, step 400/600 , loss = 0.3860691487789154 \n",
      "epoch 2/2, step 500/600 , loss = 0.09852485358715057 \n",
      "epoch 2/2, step 600/600 , loss = 0.11960834264755249 \n"
     ]
    }
   ],
   "source": [
    "class NeuralNet(nn.Module):\n",
    "    def __init__(self,input_size,hidden_size,num_classes):\n",
    "        super(NeuralNet,self).__init__()\n",
    "\n",
    "        # output=x*wT+bias [Linear function]\n",
    "        self.l1=nn.Linear(input_size,hidden_size)\n",
    "\n",
    "        # Activation Function\n",
    "        self.relu=nn.ReLU()\n",
    "\n",
    "        self.l2 = nn.Linear(hidden_size,num_classes)\n",
    "\n",
    "        # Activation Function (Sigmoid) bec classification Problem but we will use cross entropy \n",
    "        # that apply that function inside it so we won't define that layer\n",
    "    \n",
    "    def forward(self,x):\n",
    "        out=self.l1(x)\n",
    "        out=self.relu(out)\n",
    "        out=self.l2(out)\n",
    "        return out\n",
    "    \n",
    "model= NeuralNet(input_size,hidden_size,num_classes).to(device)\n",
    "\n",
    "# loss and optimizer\n",
    "criterion = nn.CrossEntropyLoss() # Apply Sigmoid inside it :D\n",
    "optimizer = torch.optim.Adam(model.parameters(),lr=learning_rate)\n",
    "\n",
    "\n",
    "# Training\n",
    "n_total_steps=len(train_loader)\n",
    "for epoch in range(num_epochs):\n",
    "    for i , (images,labels) in enumerate(train_loader):\n",
    "        # Images are 100*1*28*28\n",
    "        # Reshape to 100*784\n",
    "        images=images.reshape(-1,28*28).to(device) # [100,784]\n",
    "        labels=labels.to(device) # [100]\n",
    "  \n",
    "        # Forward\n",
    "        outputs=model(images)\n",
    "        loss=criterion(outputs,labels)\n",
    "\n",
    "        # Backwards\n",
    "        optimizer.zero_grad()\n",
    "        loss.backward()\n",
    "        optimizer.step()\n",
    "\n",
    "        if (i+1) % 100 == 0:\n",
    "            print(f'epoch {epoch+1}/{num_epochs}, step {i+1}/{n_total_steps} , loss = {loss.item()} ')\n"
   ]
  },
  {
   "cell_type": "code",
   "execution_count": 45,
   "metadata": {},
   "outputs": [
    {
     "name": "stdout",
     "output_type": "stream",
     "text": [
      "accuracy = 95.53\n"
     ]
    }
   ],
   "source": [
    "\n",
    "# Testing\n",
    "with torch.no_grad():\n",
    "    n_correct=0\n",
    "    n_samples=0\n",
    "    for images,labels in test_loader:\n",
    "        images=images.reshape(-1,28*28).to(device)\n",
    "        labels=labels.to(device)\n",
    "\n",
    "        outputs=model(images)\n",
    "\n",
    "        # print(outputs.shape) #torch.Size([100, 10])\n",
    "        # value,prediction\n",
    "        _,predictions=torch.max(outputs,1) #on dim 1 which is the 10 classes\n",
    "        \n",
    "        n_samples+=labels.shape[0]\n",
    "        n_correct+=(predictions==labels).sum().item() #.item() bec it is tensor he want value\n",
    "    acc =100.0* n_correct/n_samples\n",
    "    print(f'accuracy = {acc}')"
   ]
  }
 ],
 "metadata": {
  "kernelspec": {
   "display_name": "Python 3",
   "language": "python",
   "name": "python3"
  },
  "language_info": {
   "codemirror_mode": {
    "name": "ipython",
    "version": 3
   },
   "file_extension": ".py",
   "mimetype": "text/x-python",
   "name": "python",
   "nbconvert_exporter": "python",
   "pygments_lexer": "ipython3",
   "version": "3.10.9"
  }
 },
 "nbformat": 4,
 "nbformat_minor": 2
}
