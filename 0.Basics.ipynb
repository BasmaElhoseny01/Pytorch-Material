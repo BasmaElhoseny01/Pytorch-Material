{
 "cells": [
  {
   "cell_type": "markdown",
   "metadata": {},
   "source": [
    "## Basics"
   ]
  },
  {
   "cell_type": "code",
   "execution_count": 1,
   "metadata": {},
   "outputs": [],
   "source": [
    "import torch"
   ]
  },
  {
   "cell_type": "markdown",
   "metadata": {},
   "source": [
    "### Tensors"
   ]
  },
  {
   "cell_type": "code",
   "execution_count": 4,
   "metadata": {},
   "outputs": [
    {
     "name": "stdout",
     "output_type": "stream",
     "text": [
      "tensor([0.])\n",
      "tensor([-1.0666e+14,  1.6633e-42,  0.0000e+00,  0.0000e+00,  0.0000e+00])\n",
      "tensor([[-1.0666e+14,  1.6633e-42,  0.0000e+00],\n",
      "        [ 0.0000e+00,  0.0000e+00,  0.0000e+00]])\n"
     ]
    }
   ],
   "source": [
    "# Scalar\n",
    "x=torch.empty(1)\n",
    "print(x)\n",
    "\n",
    "# 1D\n",
    "x=torch.empty(5)\n",
    "print(x)\n",
    "\n",
    "# 2D\n",
    "x=torch.empty(2,3)\n",
    "print(x)"
   ]
  },
  {
   "cell_type": "code",
   "execution_count": 15,
   "metadata": {},
   "outputs": [
    {
     "name": "stdout",
     "output_type": "stream",
     "text": [
      "tensor([[1., 1.],\n",
      "        [1., 1.]])\n",
      "tensor([[1, 1],\n",
      "        [1, 1]], dtype=torch.int32)\n",
      "torch.Size([10, 2])\n",
      "tensor([1.0000, 0.5000])\n",
      "tensor([[1.2793, 1.0891]])\n",
      "tensor([[0.5075, 0.5449]])\n",
      "tensor([[1.2793, 1.0891]])\n",
      "torch.Size([1, 2])\n",
      "torch.Size([1, 2])\n",
      "torch.Size([2, 3]) * torch.Size([3, 2]) = torch.Size([2, 2])\n"
     ]
    }
   ],
   "source": [
    "# Ones\n",
    "x=torch.ones(2,2)\n",
    "print(x)\n",
    "\n",
    "\n",
    "# Integers\n",
    "x=torch.ones(2,2,dtype=torch.int)\n",
    "print(x)\n",
    "\n",
    "\n",
    "# Size\n",
    "x=torch.empty(10,2)\n",
    "print(x.size())\n",
    "\n",
    "\n",
    "#  Initializing Tensor Directly from data\n",
    "x=torch.tensor([1.0,0.5])\n",
    "print(x)\n",
    "\n",
    "# Addition\n",
    "x=torch.rand(1,2)\n",
    "y=torch.rand(1,2)\n",
    "print(x+y)\n",
    "\n",
    "\n",
    "# Inplace Addition\n",
    "print(y)\n",
    "y.add_(x)\n",
    "print(y)\n",
    "\n",
    "\n",
    "# Element Wise Multiplication\n",
    "z=x*y\n",
    "print(z.size())\n",
    "\n",
    "z=torch.mul(x,y)\n",
    "print(z.size())\n",
    "\n",
    "# Matrix Multiplication\n",
    "a = torch.tensor([[1, 2, 3], [4, 5, 6]])\n",
    "b = torch.tensor([[7, 8], [9, 10], [11, 12]])\n",
    "c = torch.matmul(a, b)\n",
    "print(a.size(),\"*\",b.size(),\"=\",c.size())"
   ]
  },
  {
   "cell_type": "code",
   "execution_count": 14,
   "metadata": {},
   "outputs": [
    {
     "name": "stdout",
     "output_type": "stream",
     "text": [
      "tensor([[0.7870, 0.8309, 0.0736],\n",
      "        [0.0537, 0.7782, 0.9817],\n",
      "        [0.9591, 0.1264, 0.7659],\n",
      "        [0.6511, 0.3079, 0.4006],\n",
      "        [0.7001, 0.8446, 0.2926]])\n",
      "tensor([0.8309, 0.7782, 0.1264, 0.3079, 0.8446])\n",
      "tensor(0.7782)\n",
      "0.7782097458839417\n"
     ]
    }
   ],
   "source": [
    "x=torch.rand(5,3)\n",
    "print(x)\n",
    "\n",
    "# Slicing\n",
    "print(x[:,1])\n",
    "\n",
    "# Item()\n",
    "print(x[1,1]) #in tensor form\n",
    "print(x[1,1].item()) # scalar not a tensor\n"
   ]
  },
  {
   "cell_type": "markdown",
   "metadata": {},
   "source": [
    "### Reshaping\n",
    "!![image.png](https://i.stack.imgur.com/ORqaP.png)"
   ]
  },
  {
   "cell_type": "code",
   "execution_count": 18,
   "metadata": {},
   "outputs": [
    {
     "name": "stdout",
     "output_type": "stream",
     "text": [
      "tensor([[0.0041, 0.1609, 0.0165, 0.4877],\n",
      "        [0.7163, 0.6417, 0.0228, 0.5389],\n",
      "        [0.1670, 0.3177, 0.8396, 0.5349],\n",
      "        [0.2955, 0.9079, 0.8595, 0.6270]])\n",
      "tensor([[0.0041, 0.1609, 0.0165, 0.4877, 0.7163, 0.6417, 0.0228, 0.5389],\n",
      "        [0.1670, 0.3177, 0.8396, 0.5349, 0.2955, 0.9079, 0.8595, 0.6270]])\n"
     ]
    }
   ],
   "source": [
    "x=torch.rand(4,4)\n",
    "print(x)\n",
    "\n",
    "y=x.view(-1,8)\n",
    "print(y)"
   ]
  },
  {
   "cell_type": "code",
   "execution_count": 29,
   "metadata": {},
   "outputs": [
    {
     "name": "stdout",
     "output_type": "stream",
     "text": [
      "tensor([1., 1., 1., 1., 1.])\n",
      "[1. 1. 1. 1. 1.]\n",
      "tensor([2., 2., 2., 2., 2.])\n",
      "[2. 2. 2. 2. 2.]\n",
      "[1. 1. 1. 1. 1.]\n",
      "tensor([1., 1., 1., 1., 1.], dtype=torch.float64)\n"
     ]
    }
   ],
   "source": [
    "# From Tensor to numpy\n",
    "x=torch.ones(5)\n",
    "print(x)\n",
    "\n",
    "x_np=x.numpy()\n",
    "print(x_np)\n",
    "\n",
    "# 🔴🔴 Since both x and x_np are on CPU both point to the same location\n",
    "# So modify one appears in both \n",
    "x.add_(1)\n",
    "print(x)\n",
    "print(x_np)\n",
    "\n",
    "\n",
    "# From Numpy to Tensor\n",
    "import numpy as np\n",
    "x=np.ones(5)\n",
    "print(x)\n",
    "\n",
    "x_torch=torch.from_numpy(x)\n",
    "print(x_torch)\n",
    "\n",
    "# 🔴🔴 Same Note"
   ]
  },
  {
   "cell_type": "markdown",
   "metadata": {},
   "source": [
    "### CUDA"
   ]
  },
  {
   "cell_type": "code",
   "execution_count": 33,
   "metadata": {},
   "outputs": [
    {
     "name": "stdout",
     "output_type": "stream",
     "text": [
      "Using GPU\n",
      "tensor([1., 1., 1., 1., 1.], device='cuda:0')\n"
     ]
    }
   ],
   "source": [
    "if torch.cuda.is_available():\n",
    "    print(\"Using GPU\")\n",
    "    device=torch.device(\"cuda\")\n",
    "else:\n",
    "    print(\"Using CPU\")\n",
    "    device=torch.device(\"cpu\")\n",
    "\n",
    "# Make tensor in GPU\n",
    "x=torch.ones(5,device=device)\n",
    "print(x)\n",
    "\n",
    "# Move tensor to GPU\n",
    "y=torch.ones(5)\n",
    "y=y.to(device)\n",
    "\n",
    "z=x*y # performed on GPU\n",
    "\n",
    "\n",
    "# Move tensor to CPU\n",
    "z=z.to(\"cpu\")"
   ]
  }
 ],
 "metadata": {
  "kernelspec": {
   "display_name": "Python 3",
   "language": "python",
   "name": "python3"
  },
  "language_info": {
   "codemirror_mode": {
    "name": "ipython",
    "version": 3
   },
   "file_extension": ".py",
   "mimetype": "text/x-python",
   "name": "python",
   "nbconvert_exporter": "python",
   "pygments_lexer": "ipython3",
   "version": "3.10.9"
  }
 },
 "nbformat": 4,
 "nbformat_minor": 2
}
